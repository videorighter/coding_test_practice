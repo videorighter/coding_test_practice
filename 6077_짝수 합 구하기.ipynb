{
 "cells": [
  {
   "cell_type": "code",
   "execution_count": 24,
   "metadata": {},
   "outputs": [
    {
     "name": "stdin",
     "output_type": "stream",
     "text": [
      " 100\n"
     ]
    },
    {
     "name": "stdout",
     "output_type": "stream",
     "text": [
      "2550\n"
     ]
    }
   ],
   "source": [
    "input_ = input()\n",
    "\n",
    "try:\n",
    "    if int(input_) > 100:\n",
    "        print(\"100 이하의 정수를 입력하세요.\")\n",
    "    elif int(input_) < 0:\n",
    "        print(\"1 이상의 정수를 입력하세요.\")\n",
    "    else:\n",
    "        list_ = list(range(int(input_)+1))\n",
    "        \n",
    "    tmp = 0\n",
    "    for num in list_:\n",
    "        if num%2 == 0:\n",
    "            tmp += num\n",
    "    \n",
    "    print(tmp)\n",
    "\n",
    "except ValueError:\n",
    "    print(\"정수를 입력하세요.\")\n",
    "    \n",
    "\n",
    "    \n"
   ]
  }
 ],
 "metadata": {
  "kernelspec": {
   "display_name": "Python 3",
   "language": "python",
   "name": "python3"
  },
  "language_info": {
   "codemirror_mode": {
    "name": "ipython",
    "version": 3
   },
   "file_extension": ".py",
   "mimetype": "text/x-python",
   "name": "python",
   "nbconvert_exporter": "python",
   "pygments_lexer": "ipython3",
   "version": "3.8.3"
  }
 },
 "nbformat": 4,
 "nbformat_minor": 4
}
