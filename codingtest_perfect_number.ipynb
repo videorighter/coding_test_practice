{
 "cells": [
  {
   "cell_type": "code",
   "execution_count": 8,
   "metadata": {},
   "outputs": [],
   "source": [
    "def is_perfect_number(n):\n",
    "    div = [i for i in range(1, n) if n%i == 0]\n",
    "    if sum(div) == n:\n",
    "        return True\n",
    "    else:\n",
    "        return False"
   ]
  },
  {
   "cell_type": "code",
   "execution_count": 10,
   "metadata": {},
   "outputs": [
    {
     "data": {
      "text/plain": [
       "True"
      ]
     },
     "execution_count": 10,
     "metadata": {},
     "output_type": "execute_result"
    }
   ],
   "source": [
    "is_perfect_number(6)"
   ]
  },
  {
   "cell_type": "code",
   "execution_count": 11,
   "metadata": {},
   "outputs": [
    {
     "name": "stdout",
     "output_type": "stream",
     "text": [
      "NO\n",
      "NO\n",
      "NO\n",
      "NO\n",
      "YES\n",
      "YES\n",
      "YES\n"
     ]
    },
    {
     "ename": "ValueError",
     "evalue": "invalid literal for int() with base 10: ''",
     "output_type": "error",
     "traceback": [
      "\u001b[1;31m---------------------------------------------------------------------------\u001b[0m",
      "\u001b[1;31mValueError\u001b[0m                                Traceback (most recent call last)",
      "\u001b[1;32mc:\\Users\\madho\\vscode\\Programmers\\codingtest_perfect_number.ipynb Cell 3'\u001b[0m in \u001b[0;36m<module>\u001b[1;34m\u001b[0m\n\u001b[0;32m      <a href='vscode-notebook-cell:/c%3A/Users/madho/vscode/Programmers/codingtest_perfect_number.ipynb#ch0000000?line=0'>1</a>\u001b[0m caseSize \u001b[39m=\u001b[39m \u001b[39mint\u001b[39m(\u001b[39minput\u001b[39m()\u001b[39m.\u001b[39mstrip())\n\u001b[0;32m      <a href='vscode-notebook-cell:/c%3A/Users/madho/vscode/Programmers/codingtest_perfect_number.ipynb#ch0000000?line=1'>2</a>\u001b[0m \u001b[39mfor\u001b[39;00m i \u001b[39min\u001b[39;00m \u001b[39mrange\u001b[39m(caseSize):\n\u001b[1;32m----> <a href='vscode-notebook-cell:/c%3A/Users/madho/vscode/Programmers/codingtest_perfect_number.ipynb#ch0000000?line=2'>3</a>\u001b[0m     n \u001b[39m=\u001b[39m \u001b[39mint\u001b[39;49m(\u001b[39minput\u001b[39;49m()\u001b[39m.\u001b[39;49mstrip())\n\u001b[0;32m      <a href='vscode-notebook-cell:/c%3A/Users/madho/vscode/Programmers/codingtest_perfect_number.ipynb#ch0000000?line=3'>4</a>\u001b[0m     \u001b[39mif\u001b[39;00m is_perfect_number(n):\n\u001b[0;32m      <a href='vscode-notebook-cell:/c%3A/Users/madho/vscode/Programmers/codingtest_perfect_number.ipynb#ch0000000?line=4'>5</a>\u001b[0m             \u001b[39mprint\u001b[39m(\u001b[39m\"\u001b[39m\u001b[39mYES\u001b[39m\u001b[39m\"\u001b[39m)\n",
      "\u001b[1;31mValueError\u001b[0m: invalid literal for int() with base 10: ''"
     ]
    }
   ],
   "source": [
    "caseSize = int(input().strip())\n",
    "for i in range(caseSize):\n",
    "    n = int(input().strip())\n",
    "    if is_perfect_number(n):\n",
    "        print(\"YES\")\n",
    "    else:\n",
    "        print(\"NO\")"
   ]
  },
  {
   "cell_type": "code",
   "execution_count": null,
   "metadata": {},
   "outputs": [],
   "source": []
  }
 ],
 "metadata": {
  "interpreter": {
   "hash": "ac59ebe37160ed0dfa835113d9b8498d9f09ceb179beaac4002f036b9467c963"
  },
  "kernelspec": {
   "display_name": "Python 3.9.7 64-bit",
   "language": "python",
   "name": "python3"
  },
  "language_info": {
   "codemirror_mode": {
    "name": "ipython",
    "version": 3
   },
   "file_extension": ".py",
   "mimetype": "text/x-python",
   "name": "python",
   "nbconvert_exporter": "python",
   "pygments_lexer": "ipython3",
   "version": "3.9.7"
  },
  "orig_nbformat": 4
 },
 "nbformat": 4,
 "nbformat_minor": 2
}
