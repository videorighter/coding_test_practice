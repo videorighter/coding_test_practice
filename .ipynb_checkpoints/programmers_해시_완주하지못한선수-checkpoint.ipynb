{
 "cells": [
  {
   "cell_type": "code",
   "execution_count": null,
   "metadata": {},
   "outputs": [],
   "source": [
    "def solution(participant:list, completion:list):\n",
    "    answer = ''\n",
    "    participant = sorted(participant)\n",
    "    completion = sorted(completion)\n",
    "    completion.append(\"z\")\n",
    "    for i in range(len(participant)):\n",
    "        if participant[i] != completion[i]:\n",
    "            answer += participant[i]\n",
    "            break\n",
    "    return answer"
   ]
  }
 ],
 "metadata": {
  "kernelspec": {
   "display_name": "Python 3",
   "language": "python",
   "name": "python3"
  },
  "language_info": {
   "codemirror_mode": {
    "name": "ipython",
    "version": 3
   },
   "file_extension": ".py",
   "mimetype": "text/x-python",
   "name": "python",
   "nbconvert_exporter": "python",
   "pygments_lexer": "ipython3",
   "version": "3.8.3"
  }
 },
 "nbformat": 4,
 "nbformat_minor": 4
}
