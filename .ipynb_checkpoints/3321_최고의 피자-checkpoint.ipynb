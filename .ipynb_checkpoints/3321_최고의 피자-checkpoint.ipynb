{
 "cells": [
  {
   "cell_type": "code",
   "execution_count": 28,
   "metadata": {},
   "outputs": [
    {
     "name": "stdin",
     "output_type": "stream",
     "text": [
      " 3\n",
      " 12 2\n",
      " 200\n",
      " 50\n",
      " 300\n",
      " 100\n"
     ]
    }
   ],
   "source": [
    "toping_n = int(input())\n",
    "a = input()\n",
    "dow_p, toping_p = int(a.split()[0]), int(a.split()[1])\n",
    "dow_k = int(input())\n",
    "toping_k = [int(input()) for _ in range(toping_n)]"
   ]
  },
  {
   "cell_type": "code",
   "execution_count": 29,
   "metadata": {},
   "outputs": [
    {
     "data": {
      "text/plain": [
       "(12, 2, 200, [50, 300, 100])"
      ]
     },
     "execution_count": 29,
     "metadata": {},
     "output_type": "execute_result"
    }
   ],
   "source": [
    "dow_p, toping_p, dow_k, toping_k"
   ]
  },
  {
   "cell_type": "code",
   "execution_count": 30,
   "metadata": {},
   "outputs": [
    {
     "data": {
      "text/plain": [
       "[300, 100, 50]"
      ]
     },
     "execution_count": 30,
     "metadata": {},
     "output_type": "execute_result"
    }
   ],
   "source": [
    "sorted_toping_k = sorted(toping_k, reverse=True)\n",
    "sorted_toping_k"
   ]
  },
  {
   "cell_type": "code",
   "execution_count": 32,
   "metadata": {},
   "outputs": [
    {
     "name": "stdout",
     "output_type": "stream",
     "text": [
      "37.5\n",
      "37\n"
     ]
    }
   ],
   "source": [
    "total_k = dow_k\n",
    "total_p = dow_p\n",
    "pk_ratio = dow_k/dow_p\n",
    "for i in sorted_toping_k:\n",
    "    if pk_ratio <= total_k/total_p:\n",
    "        pk_ratio = total_k/total_p\n",
    "    else:\n",
    "        break\n",
    "    total_k += i\n",
    "    total_p += toping_p\n",
    "print(pk_ratio)\n",
    "print(int(pk_ratio))"
   ]
  },
  {
   "cell_type": "code",
   "execution_count": null,
   "metadata": {},
   "outputs": [],
   "source": []
  }
 ],
 "metadata": {
  "kernelspec": {
   "display_name": "Python 3",
   "language": "python",
   "name": "python3"
  },
  "language_info": {
   "codemirror_mode": {
    "name": "ipython",
    "version": 3
   },
   "file_extension": ".py",
   "mimetype": "text/x-python",
   "name": "python",
   "nbconvert_exporter": "python",
   "pygments_lexer": "ipython3",
   "version": "3.8.3"
  }
 },
 "nbformat": 4,
 "nbformat_minor": 4
}
