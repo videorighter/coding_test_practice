{
 "cells": [
  {
   "cell_type": "markdown",
   "metadata": {},
   "source": [
    "## https://programmers.co.kr/learn/courses/30/lessons/42578?language=python3"
   ]
  },
  {
   "cell_type": "code",
   "execution_count": 18,
   "metadata": {},
   "outputs": [],
   "source": [
    "clothes = [[\"yellowhat\", \"headgear\"], [\"bluesunglasses\", \"eyewear\"], [\"green_turban\", \"headgear\"]]"
   ]
  },
  {
   "cell_type": "code",
   "execution_count": 69,
   "metadata": {},
   "outputs": [
    {
     "data": {
      "text/plain": [
       "5"
      ]
     },
     "execution_count": 69,
     "metadata": {},
     "output_type": "execute_result"
    }
   ],
   "source": [
    "import numpy as np\n",
    "from itertools import product\n",
    "def solution(clothes):\n",
    "    clothes_arr = np.array(clothes)\n",
    "    unique_classes = np.unique(clothes_arr[:, 1])\n",
    "    hsh = {}\n",
    "    for clss in unique_classes:\n",
    "        tmp = []\n",
    "        for i in range(len(clothes_arr)):\n",
    "            if clothes_arr[i, 1] == clss:\n",
    "                tmp.append(clothes_arr[i, 0])\n",
    "        tmp.append('undressed')\n",
    "        hsh[clss] = tmp\n",
    "    answer = len(list(product(*hsh.values())))-1\n",
    "    return answer\n",
    "\n",
    "solution(clothes)"
   ]
  },
  {
   "cell_type": "code",
   "execution_count": 87,
   "metadata": {},
   "outputs": [
    {
     "data": {
      "text/plain": [
       "5"
      ]
     },
     "execution_count": 87,
     "metadata": {},
     "output_type": "execute_result"
    }
   ],
   "source": [
    "import pandas as pd\n",
    "from itertools import product\n",
    "def solution(clothes):\n",
    "    clothes_df = pd.DataFrame(clothes, columns=[\"name\", \"class\"])\n",
    "    unique_classes = clothes_df.iloc[:, 1].unique()\n",
    "    hsh = {}\n",
    "    for clss in unique_classes:\n",
    "        hsh[clss] = list(clothes_df[clothes_df[\"class\"] == clss][\"name\"])\n",
    "        hsh[clss].append(\"undressed\")\n",
    "    answer = len(list(product(*hsh.values())))-1\n",
    "    return answer\n",
    "\n",
    "solution(clothes)"
   ]
  },
  {
   "cell_type": "code",
   "execution_count": 89,
   "metadata": {},
   "outputs": [
    {
     "data": {
      "text/plain": [
       "5"
      ]
     },
     "execution_count": 89,
     "metadata": {},
     "output_type": "execute_result"
    }
   ],
   "source": [
    "import pandas as pd\n",
    "    \n",
    "def solution(clothes):\n",
    "    clothes_df = pd.DataFrame(clothes, columns=[\"name\", \"class\"])\n",
    "    unique_classes = clothes_df.iloc[:, 1].unique()\n",
    "    hsh = {}\n",
    "    answer = 1\n",
    "    for clss in unique_classes:\n",
    "        hsh[clss] = list(clothes_df[clothes_df[\"class\"] == clss][\"name\"])\n",
    "        answer *= len(hsh[clss])+1\n",
    "    return answer-1\n",
    "\n",
    "solution(clothes)"
   ]
  },
  {
   "cell_type": "code",
   "execution_count": null,
   "metadata": {},
   "outputs": [],
   "source": []
  }
 ],
 "metadata": {
  "kernelspec": {
   "display_name": "Python 3",
   "language": "python",
   "name": "python3"
  },
  "language_info": {
   "codemirror_mode": {
    "name": "ipython",
    "version": 3
   },
   "file_extension": ".py",
   "mimetype": "text/x-python",
   "name": "python",
   "nbconvert_exporter": "python",
   "pygments_lexer": "ipython3",
   "version": "3.8.3"
  }
 },
 "nbformat": 4,
 "nbformat_minor": 4
}
