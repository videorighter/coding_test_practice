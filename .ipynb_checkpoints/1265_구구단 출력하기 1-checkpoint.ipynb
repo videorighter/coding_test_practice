{
 "cells": [
  {
   "cell_type": "code",
   "execution_count": 14,
   "metadata": {},
   "outputs": [
    {
     "name": "stdin",
     "output_type": "stream",
     "text": [
      " 2\n"
     ]
    },
    {
     "name": "stdout",
     "output_type": "stream",
     "text": [
      "2*1=2\n",
      "2*2=4\n",
      "2*3=6\n",
      "2*4=8\n",
      "2*5=10\n",
      "2*6=12\n",
      "2*7=14\n",
      "2*8=16\n",
      "2*9=18\n"
     ]
    }
   ],
   "source": [
    "input_ = int(input())\n",
    "\n",
    "try:\n",
    "    if input_ > 9:\n",
    "        print(\"9 이하의 정수를 입력하세요.\")\n",
    "    elif input_ < 0:\n",
    "        print(\"1 이상의 정수를 입력하세요.\")\n",
    "    else:\n",
    "        for i in range(1, 10):\n",
    "            print(f\"{input_}*{i}={input_*i}\")\n",
    "        \n",
    "except ValueError:\n",
    "    print(\"정수를 입력하세요.\")"
   ]
  },
  {
   "cell_type": "code",
   "execution_count": null,
   "metadata": {},
   "outputs": [],
   "source": []
  }
 ],
 "metadata": {
  "kernelspec": {
   "display_name": "Python 3",
   "language": "python",
   "name": "python3"
  },
  "language_info": {
   "codemirror_mode": {
    "name": "ipython",
    "version": 3
   },
   "file_extension": ".py",
   "mimetype": "text/x-python",
   "name": "python",
   "nbconvert_exporter": "python",
   "pygments_lexer": "ipython3",
   "version": "3.8.3"
  }
 },
 "nbformat": 4,
 "nbformat_minor": 4
}
