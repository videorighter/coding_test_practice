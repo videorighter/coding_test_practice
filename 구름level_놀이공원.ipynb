{
 "cells": [
  {
   "cell_type": "code",
   "execution_count": 12,
   "metadata": {},
   "outputs": [],
   "source": [
    "# -*- coding: utf-8 -*-\n",
    "# UTF-8 encoding when using korean\n",
    "\n",
    "T = int(input())\n",
    "\n",
    "for _ in range(T):\n",
    "\tNK = list(map(int, input().split(' ')))\n",
    "\tN, K = NK[0], NK[1]\n",
    "\tarr = []\n",
    "\tfor i in range(N):\n",
    "\t\tarr.append(list(map(int, input().split(' '))))\n",
    "\n",
    "\tanswer = []\n",
    "\tfor i in range(N-K+1):\n",
    "\t\tfor j in range(N-K+1):\n",
    "\t\t\ttmp = [sum(k[j:j+K]) for k in arr[i:i+K]]\n",
    "\t\t\tanswer.append(sum(tmp))\n",
    "\n",
    "\tprint(min(answer))"
   ]
  },
  {
   "cell_type": "code",
   "execution_count": null,
   "metadata": {},
   "outputs": [],
   "source": []
  }
 ],
 "metadata": {
  "interpreter": {
   "hash": "ac59ebe37160ed0dfa835113d9b8498d9f09ceb179beaac4002f036b9467c963"
  },
  "kernelspec": {
   "display_name": "Python 3.9.7 64-bit",
   "language": "python",
   "name": "python3"
  },
  "language_info": {
   "codemirror_mode": {
    "name": "ipython",
    "version": 3
   },
   "file_extension": ".py",
   "mimetype": "text/x-python",
   "name": "python",
   "nbconvert_exporter": "python",
   "pygments_lexer": "ipython3",
   "version": "3.9.7"
  },
  "orig_nbformat": 4
 },
 "nbformat": 4,
 "nbformat_minor": 2
}
