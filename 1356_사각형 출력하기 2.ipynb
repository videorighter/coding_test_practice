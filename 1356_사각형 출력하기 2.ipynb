{
 "cells": [
  {
   "cell_type": "code",
   "execution_count": 6,
   "metadata": {},
   "outputs": [
    {
     "name": "stdin",
     "output_type": "stream",
     "text": [
      " 8\n"
     ]
    },
    {
     "name": "stdout",
     "output_type": "stream",
     "text": [
      "********\n",
      "*      *\n",
      "*      *\n",
      "*      *\n",
      "*      *\n",
      "*      *\n",
      "*      *\n",
      "********\n"
     ]
    }
   ],
   "source": [
    "input_ = input()\n",
    "\n",
    "try:\n",
    "    if int(input_) < 3:\n",
    "        print(\"3 이상의 정수를 입력하세요\")\n",
    "    else:\n",
    "        num = int(input_)\n",
    "        print(\"*\" * num)\n",
    "        for _ in list(range(1, num-1)):\n",
    "            print(\"*\" + \" \" * (num-2) + \"*\")\n",
    "        print(\"*\" * num)\n",
    "except ValueError:\n",
    "    print(\"정수를 입력하세요.\")"
   ]
  },
  {
   "cell_type": "code",
   "execution_count": null,
   "metadata": {},
   "outputs": [],
   "source": []
  }
 ],
 "metadata": {
  "kernelspec": {
   "display_name": "Python 3",
   "language": "python",
   "name": "python3"
  },
  "language_info": {
   "codemirror_mode": {
    "name": "ipython",
    "version": 3
   },
   "file_extension": ".py",
   "mimetype": "text/x-python",
   "name": "python",
   "nbconvert_exporter": "python",
   "pygments_lexer": "ipython3",
   "version": "3.8.3"
  }
 },
 "nbformat": 4,
 "nbformat_minor": 4
}
