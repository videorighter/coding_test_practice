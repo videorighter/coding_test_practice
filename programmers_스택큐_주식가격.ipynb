{
 "cells": [
  {
   "cell_type": "code",
   "execution_count": 62,
   "metadata": {},
   "outputs": [],
   "source": [
    "def solution(prices):\n",
    "    from collections import deque\n",
    "    prices = deque(prices)\n",
    "    answer = deque([])\n",
    "    length = len(prices)\n",
    "\n",
    "    while length > 0:\n",
    "        tmp_price = prices.popleft()\n",
    "        for i, price in enumerate(prices):\n",
    "            if price < tmp_price:\n",
    "                break\n",
    "        answer.append(i+1)\n",
    "        length -= 1\n",
    "    answer.pop()\n",
    "    answer.append(0)\n",
    "    return list(answer)"
   ]
  },
  {
   "cell_type": "code",
   "execution_count": 74,
   "metadata": {},
   "outputs": [
    {
     "data": {
      "text/plain": [
       "[4, 3, 1, 1, 0]"
      ]
     },
     "execution_count": 74,
     "metadata": {},
     "output_type": "execute_result"
    }
   ],
   "source": [
    "prices = [1, 2, 3, 2, 3]\n",
    "solution(prices)"
   ]
  },
  {
   "cell_type": "code",
   "execution_count": null,
   "metadata": {},
   "outputs": [],
   "source": []
  }
 ],
 "metadata": {
  "kernelspec": {
   "display_name": "Python 3",
   "language": "python",
   "name": "python3"
  },
  "language_info": {
   "codemirror_mode": {
    "name": "ipython",
    "version": 3
   },
   "file_extension": ".py",
   "mimetype": "text/x-python",
   "name": "python",
   "nbconvert_exporter": "python",
   "pygments_lexer": "ipython3",
   "version": "3.8.3"
  }
 },
 "nbformat": 4,
 "nbformat_minor": 4
}
