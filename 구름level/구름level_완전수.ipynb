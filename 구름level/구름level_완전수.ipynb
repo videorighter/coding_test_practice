{
 "cells": [
  {
   "cell_type": "code",
   "execution_count": null,
   "metadata": {},
   "outputs": [],
   "source": [
    "# -*- coding: utf-8 -*-\n",
    "# UTF-8 encoding when using korean\n",
    "user_input = list(map(int, input().split(' ')))\n",
    "\n",
    "result = ''\n",
    "for i in range(user_input[0], user_input[1]+1):\n",
    "\ttmp = []\n",
    "\tfor j in range(1, i+1):\n",
    "\t\tif i%j == 0:\n",
    "\t\t\ttmp.append(j)\n",
    "\t\t\t\n",
    "\tif sum(tmp[:-1]) == tmp[-1]:\n",
    "\t\tresult += f'{tmp[-1]} '\n",
    "\t\t\n",
    "if result != '':\n",
    "\tprint(result)"
   ]
  }
 ],
 "metadata": {
  "interpreter": {
   "hash": "ac59ebe37160ed0dfa835113d9b8498d9f09ceb179beaac4002f036b9467c963"
  },
  "kernelspec": {
   "display_name": "Python 3.9.7 64-bit",
   "language": "python",
   "name": "python3"
  },
  "language_info": {
   "codemirror_mode": {
    "name": "ipython",
    "version": 3
   },
   "file_extension": ".py",
   "mimetype": "text/x-python",
   "name": "python",
   "nbconvert_exporter": "python",
   "pygments_lexer": "ipython3",
   "version": "3.9.7"
  },
  "orig_nbformat": 4
 },
 "nbformat": 4,
 "nbformat_minor": 2
}
