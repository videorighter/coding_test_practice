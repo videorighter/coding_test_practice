{
 "cells": [
  {
   "cell_type": "code",
   "execution_count": null,
   "metadata": {},
   "outputs": [],
   "source": [
    "# -*- coding: utf-8 -*-\n",
    "# UTF-8 encoding when using korean\n",
    "user_input = list(map(int, input().split(' ')))\n",
    "\n",
    "result = ''\n",
    "for i in range(user_input[0], user_input[1]+1):\n",
    "\ttmp = []\n",
    "\tfor j in range(1, i+1):\n",
    "\t\tif i%j == 0:\n",
    "\t\t\ttmp.append(j)\n",
    "\t\t\t\n",
    "\tif sum(tmp[:-1]) == tmp[-1]:\n",
    "\t\tresult += f'{tmp[-1]} '\n",
    "\t\t\n",
    "if result != '':\n",
    "\tprint(result)"
   ]
  }
 ],
 "metadata": {
  "language_info": {
   "name": "python"
  },
  "orig_nbformat": 4
 },
 "nbformat": 4,
 "nbformat_minor": 2
}
