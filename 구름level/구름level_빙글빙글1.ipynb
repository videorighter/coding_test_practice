{
 "cells": [
  {
   "cell_type": "code",
   "execution_count": 25,
   "metadata": {},
   "outputs": [],
   "source": [
    "# -*- coding: utf-8 -*-\n",
    "# UTF-8 encoding when using korean\n",
    "import numpy as np\n",
    "user_input = int(input())"
   ]
  },
  {
   "cell_type": "code",
   "execution_count": 28,
   "metadata": {},
   "outputs": [
    {
     "name": "stdout",
     "output_type": "stream",
     "text": [
      "1\n",
      "[[1 1 1 1 1]\n",
      " [1 0 0 0 1]\n",
      " [1 1 1 1 1]\n",
      " [1 0 0 0 1]\n",
      " [1 1 1 1 1]]\n",
      "2\n",
      "[[1 1 1 1 1]\n",
      " [1 0 0 0 1]\n",
      " [1 1 1 1 1]\n",
      " [1 0 0 0 1]\n",
      " [1 1 1 1 1]]\n",
      "3\n",
      "[[1 1 1 1 1]\n",
      " [1 0 0 0 1]\n",
      " [1 1 1 1 1]\n",
      " [1 0 0 0 1]\n",
      " [1 1 1 1 1]]\n"
     ]
    }
   ],
   "source": [
    "arr = [[1]*user_input]*user_input\n",
    "arr = np.array(arr)\n",
    "base = arr[0].copy()\n",
    "for i in range(1, int(user_input/2)+1):\n",
    "\tif i%2 == 1:\n",
    "\t\tbase[i:-i] = [0]\n",
    "\t\tarr[i] = base\n",
    "\t\tarr[-i-1] = base\n",
    "\t\tbase = arr[i].copy()\n",
    "\telse:\n",
    "\t\tbase[i:-i] = [1]\n",
    "\t\tarr[i] = base\n",
    "\t\tarr[-i-1] = base\n",
    "\t\tbase = arr[i].copy()\n",
    "\t\n",
    "\tif arr[i][i-1] == 0:\n",
    "\t\tarr[i][i-1] = 1\n",
    "\telse:\n",
    "\t\tarr[i][i-1] = 0\n",
    "\t\n",
    "\t\n",
    "for i in range(user_input):\n",
    "\tresult = ''\n",
    "\tfor j in arr[i]:\n",
    "\t\tif j == 1:\n",
    "\t\t\tresult += '# '\n",
    "\t\telse:\n",
    "\t\t\tresult += '  '\n",
    "\n",
    "\tprint(result)"
   ]
  },
  {
   "cell_type": "code",
   "execution_count": 18,
   "metadata": {},
   "outputs": [
    {
     "data": {
      "text/plain": [
       "0"
      ]
     },
     "execution_count": 18,
     "metadata": {},
     "output_type": "execute_result"
    }
   ],
   "source": [
    "2%2"
   ]
  },
  {
   "cell_type": "code",
   "execution_count": null,
   "metadata": {},
   "outputs": [],
   "source": []
  }
 ],
 "metadata": {
  "interpreter": {
   "hash": "ac59ebe37160ed0dfa835113d9b8498d9f09ceb179beaac4002f036b9467c963"
  },
  "kernelspec": {
   "display_name": "Python 3.9.7 64-bit",
   "language": "python",
   "name": "python3"
  },
  "language_info": {
   "codemirror_mode": {
    "name": "ipython",
    "version": 3
   },
   "file_extension": ".py",
   "mimetype": "text/x-python",
   "name": "python",
   "nbconvert_exporter": "python",
   "pygments_lexer": "ipython3",
   "version": "3.9.7"
  },
  "orig_nbformat": 4
 },
 "nbformat": 4,
 "nbformat_minor": 2
}
