{
 "cells": [
  {
   "cell_type": "code",
   "execution_count": null,
   "metadata": {},
   "outputs": [],
   "source": [
    "# -*- coding: utf-8 -*-\n",
    "# UTF-8 encoding when using korean\n",
    "num = int(input())\n",
    "arr = list(map(int, input().split(' ')))\n",
    "interval = list(map(int, input().split(' ')))\n",
    "\n",
    "print(sum(arr[interval[0]-1:interval[1]]))"
   ]
  }
 ],
 "metadata": {
  "language_info": {
   "name": "python"
  },
  "orig_nbformat": 4
 },
 "nbformat": 4,
 "nbformat_minor": 2
}
