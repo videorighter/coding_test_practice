{
 "cells": [
  {
   "cell_type": "code",
   "execution_count": 3,
   "metadata": {},
   "outputs": [
    {
     "name": "stdout",
     "output_type": "stream",
     "text": [
      "underflow\n",
      "underflow\n",
      "underflow\n",
      "underflow\n"
     ]
    },
    {
     "ename": "ValueError",
     "evalue": "invalid literal for int() with base 10: ''",
     "output_type": "error",
     "traceback": [
      "\u001b[1;31m---------------------------------------------------------------------------\u001b[0m",
      "\u001b[1;31mValueError\u001b[0m                                Traceback (most recent call last)",
      "\u001b[1;32m\\Ubuntu-20.04\\home\\videorighter\\coding_test_practice\\구름level\\구름level_스택(Stack).ipynb Cell 1'\u001b[0m in \u001b[0;36m<module>\u001b[1;34m\u001b[0m\n\u001b[0;32m      <a href='vscode-notebook-cell://wsl.localhost/Ubuntu-20.04/home/videorighter/coding_test_practice/%EA%B5%AC%EB%A6%84level/%EA%B5%AC%EB%A6%84level_%EC%8A%A4%ED%83%9D%28Stack%29.ipynb#ch0000000?line=6'>7</a>\u001b[0m tmp \u001b[39m=\u001b[39m []\n\u001b[0;32m      <a href='vscode-notebook-cell://wsl.localhost/Ubuntu-20.04/home/videorighter/coding_test_practice/%EA%B5%AC%EB%A6%84level/%EA%B5%AC%EB%A6%84level_%EC%8A%A4%ED%83%9D%28Stack%29.ipynb#ch0000000?line=7'>8</a>\u001b[0m \u001b[39mfor\u001b[39;00m i \u001b[39min\u001b[39;00m \u001b[39mrange\u001b[39m(num):\n\u001b[1;32m----> <a href='vscode-notebook-cell://wsl.localhost/Ubuntu-20.04/home/videorighter/coding_test_practice/%EA%B5%AC%EB%A6%84level/%EA%B5%AC%EB%A6%84level_%EC%8A%A4%ED%83%9D%28Stack%29.ipynb#ch0000000?line=8'>9</a>\u001b[0m \tflag \u001b[39m=\u001b[39m \u001b[39mint\u001b[39;49m(\u001b[39minput\u001b[39;49m())\n\u001b[0;32m     <a href='vscode-notebook-cell://wsl.localhost/Ubuntu-20.04/home/videorighter/coding_test_practice/%EA%B5%AC%EB%A6%84level/%EA%B5%AC%EB%A6%84level_%EC%8A%A4%ED%83%9D%28Stack%29.ipynb#ch0000000?line=10'>11</a>\u001b[0m \t\u001b[39mif\u001b[39;00m \u001b[39mnot\u001b[39;00m flag:\n\u001b[0;32m     <a href='vscode-notebook-cell://wsl.localhost/Ubuntu-20.04/home/videorighter/coding_test_practice/%EA%B5%AC%EB%A6%84level/%EA%B5%AC%EB%A6%84level_%EC%8A%A4%ED%83%9D%28Stack%29.ipynb#ch0000000?line=11'>12</a>\u001b[0m \t\t\u001b[39mif\u001b[39;00m \u001b[39mlen\u001b[39m(tmp) \u001b[39m<\u001b[39m \u001b[39m10\u001b[39m:\n",
      "\u001b[1;31mValueError\u001b[0m: invalid literal for int() with base 10: ''"
     ]
    }
   ],
   "source": [
    "# -*- coding: utf-8 -*-\n",
    "# UTF-8 encoding when using korean\n",
    "import sys\n",
    "\n",
    "num = int(input())\n",
    "\n",
    "tmp = []\n",
    "for i in range(num):\n",
    "\tflag = int(input())\n",
    "\t\n",
    "\tif flag == 0:\n",
    "\t\tif len(tmp) < 10:\n",
    "\t\t\ttmp.append(int(input()))\n",
    "\t\telse:\n",
    "\t\t\tprint('overflow')\n",
    "\telif flag == 1:\n",
    "\t\tif tmp == []:\n",
    "\t\t\tprint('underflow')\n",
    "\t\telse:\n",
    "\t\t\ttmp.pop(-1)\n",
    "\telse:\n",
    "\t\tbreak\n",
    "\n",
    "result = ''\n",
    "for i in tmp: result += f'{i} '\n",
    "if result != '':\n",
    "\tprint(result)"
   ]
  },
  {
   "cell_type": "code",
   "execution_count": null,
   "metadata": {},
   "outputs": [],
   "source": []
  }
 ],
 "metadata": {
  "interpreter": {
   "hash": "ac59ebe37160ed0dfa835113d9b8498d9f09ceb179beaac4002f036b9467c963"
  },
  "kernelspec": {
   "display_name": "Python 3.9.7 64-bit",
   "language": "python",
   "name": "python3"
  },
  "language_info": {
   "codemirror_mode": {
    "name": "ipython",
    "version": 3
   },
   "file_extension": ".py",
   "mimetype": "text/x-python",
   "name": "python",
   "nbconvert_exporter": "python",
   "pygments_lexer": "ipython3",
   "version": "3.9.7"
  },
  "orig_nbformat": 4
 },
 "nbformat": 4,
 "nbformat_minor": 2
}
