{
 "cells": [
  {
   "cell_type": "code",
   "execution_count": null,
   "metadata": {},
   "outputs": [],
   "source": [
    "# -*- coding: utf-8 -*-\n",
    "# UTF-8 encoding when using korean\n",
    "user_input = int(input())\n",
    "\n",
    "queue = []\n",
    "for _ in range(user_input):\n",
    "\tflag = input()\n",
    "\tif flag == 'e' or flag == 'E':\n",
    "\t\tif len(queue) < 10:\n",
    "\t\t\tnum = int(input())\n",
    "\t\t\tqueue.append(num)\n",
    "\t\telse:\n",
    "\t\t\tprint('overflow')\n",
    "\telif flag == 'd' or flag == 'D':\n",
    "\t\tif len(queue) > 0:\n",
    "\t\t\tqueue.pop(0)\n",
    "\t\telse:\n",
    "\t\t\tprint('underflow')\n",
    "\telse:\n",
    "\t\tbreak\t\n",
    "\n",
    "result = ''\n",
    "for i in queue:\n",
    "\tresult += f'{i} '\n",
    "print(result.strip())"
   ]
  }
 ],
 "metadata": {
  "language_info": {
   "name": "python"
  },
  "orig_nbformat": 4
 },
 "nbformat": 4,
 "nbformat_minor": 2
}
