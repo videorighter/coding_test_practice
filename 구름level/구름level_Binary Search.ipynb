{
 "cells": [
  {
   "cell_type": "code",
   "execution_count": null,
   "metadata": {},
   "outputs": [],
   "source": [
    "# -*- coding: utf-8 -*-\n",
    "# UTF-8 encoding when using korean\n",
    "arr_len = int(input())\n",
    "arr = list(map(int, input().split(' ')))\n",
    "num = int(input())\n",
    "left = 0\n",
    "right = len(arr) - 1\n",
    "answer = -1\n",
    "\n",
    "while left <= right:\n",
    "\tmid = (left+right) // 2\n",
    "\tif arr[mid] == num:\n",
    "\t\tanswer = mid\n",
    "\t\tbreak\n",
    "\telif arr[mid] > num:\n",
    "\t\tright = mid -1\n",
    "\telif arr[mid] < num:\n",
    "\t\tleft = mid + 1\n",
    "\t\t\n",
    "if answer == -1:\n",
    "\tprint('X')\n",
    "else:\n",
    "\tprint(answer+1)"
   ]
  }
 ],
 "metadata": {
  "language_info": {
   "name": "python"
  },
  "orig_nbformat": 4
 },
 "nbformat": 4,
 "nbformat_minor": 2
}
