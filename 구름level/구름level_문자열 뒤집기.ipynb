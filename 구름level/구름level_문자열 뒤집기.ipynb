{
 "cells": [
  {
   "cell_type": "code",
   "execution_count": null,
   "metadata": {},
   "outputs": [],
   "source": [
    "# -*- coding: utf-8 -*-\n",
    "# UTF-8 encoding when using korean\n",
    "user_input = input()\n",
    "result = ''\n",
    "for i in range(-1, -len(user_input)-1, -1):\n",
    "\tresult += user_input[i]\n",
    "\t\n",
    "print(result)"
   ]
  }
 ],
 "metadata": {
  "language_info": {
   "name": "python"
  },
  "orig_nbformat": 4
 },
 "nbformat": 4,
 "nbformat_minor": 2
}
