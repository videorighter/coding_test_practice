{
 "cells": [
  {
   "cell_type": "code",
   "execution_count": null,
   "metadata": {},
   "outputs": [],
   "source": [
    "# -*- coding: utf-8 -*-\n",
    "# UTF-8 encoding when using korean\n",
    "length = list(map(int, input().split(' ')))\n",
    "A_len, B_len = length[0], length[1]\n",
    "A = list(map(int, input().split(' ')))\n",
    "B = list(map(int, input().split(' ')))\n",
    "\n",
    "AB = sorted(A + B)\n",
    "result = ''\n",
    "for i in AB:\n",
    "\tresult += f'{i} '\n",
    "print(result)"
   ]
  }
 ],
 "metadata": {
  "language_info": {
   "name": "python"
  },
  "orig_nbformat": 4
 },
 "nbformat": 4,
 "nbformat_minor": 2
}
