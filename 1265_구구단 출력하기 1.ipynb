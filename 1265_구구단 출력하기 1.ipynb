{
 "cells": [
  {
   "cell_type": "code",
   "execution_count": 18,
   "metadata": {},
   "outputs": [
    {
     "name": "stdin",
     "output_type": "stream",
     "text": [
      " 2.1\n"
     ]
    },
    {
     "name": "stdout",
     "output_type": "stream",
     "text": [
      "1~9의 정수를 입력하세요.\n"
     ]
    }
   ],
   "source": [
    "input_ = input()\n",
    "\n",
    "try:\n",
    "    if int(input_) > 9:\n",
    "        print(\"9 이하의 정수를 입력하세요.\")\n",
    "    elif int(input_) < 0:\n",
    "        print(\"1 이상의 정수를 입력하세요.\")\n",
    "    else:\n",
    "        for i in range(1, 10):\n",
    "            print(f\"{int(input_)}*{i}={int(input_)*i}\")\n",
    "        \n",
    "except ValueError:\n",
    "    print(\"1~9의 정수를 입력하세요.\")"
   ]
  },
  {
   "cell_type": "code",
   "execution_count": null,
   "metadata": {},
   "outputs": [],
   "source": []
  }
 ],
 "metadata": {
  "kernelspec": {
   "display_name": "Python 3",
   "language": "python",
   "name": "python3"
  },
  "language_info": {
   "codemirror_mode": {
    "name": "ipython",
    "version": 3
   },
   "file_extension": ".py",
   "mimetype": "text/x-python",
   "name": "python",
   "nbconvert_exporter": "python",
   "pygments_lexer": "ipython3",
   "version": "3.8.3"
  }
 },
 "nbformat": 4,
 "nbformat_minor": 4
}
