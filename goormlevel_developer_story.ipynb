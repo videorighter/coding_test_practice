{
 "cells": [
  {
   "cell_type": "code",
   "execution_count": 123,
   "metadata": {},
   "outputs": [],
   "source": [
    "# -*- coding: utf-8 -*-\n",
    "# UTF-8 encoding when using korean\n",
    "\n",
    "def ChangeRadix(input:int, radix:int) -> int:\n",
    "    input = str(input)\n",
    "    result = 0\n",
    "    for i in range(-1, -len(input)-1, -1):\n",
    "        if int(input[i]) < radix:\n",
    "            result += int(input[i])*radix**(-i-1)\n",
    "        else:\n",
    "            return 'error'\n",
    "    return result\n",
    "\n",
    "def IsSquare(input:int):\n",
    "    input = input ** (1/2)\n",
    "    return True if input%1 == 0 else False\n",
    "\n",
    "def RadixNum(input:int):\n",
    "    input = str(input)\n",
    "    input_list = [int(i) for i in input]\n",
    "    return max(input_list)+1\n"
   ]
  },
  {
   "cell_type": "code",
   "execution_count": 127,
   "metadata": {},
   "outputs": [
    {
     "name": "stdout",
     "output_type": "stream",
     "text": [
      "11\n"
     ]
    }
   ],
   "source": [
    "user_input = input()\n",
    "num = RadixNum(user_input)\n",
    "while True:\n",
    "    result = ChangeRadix(user_input, num)\n",
    "    if IsSquare(result):\n",
    "        print(num)\n",
    "        break\n",
    "    else:\n",
    "        num += 1"
   ]
  }
 ],
 "metadata": {
  "interpreter": {
   "hash": "ac59ebe37160ed0dfa835113d9b8498d9f09ceb179beaac4002f036b9467c963"
  },
  "kernelspec": {
   "display_name": "Python 3.9.7 64-bit",
   "language": "python",
   "name": "python3"
  },
  "language_info": {
   "codemirror_mode": {
    "name": "ipython",
    "version": 3
   },
   "file_extension": ".py",
   "mimetype": "text/x-python",
   "name": "python",
   "nbconvert_exporter": "python",
   "pygments_lexer": "ipython3",
   "version": "3.9.7"
  },
  "orig_nbformat": 4
 },
 "nbformat": 4,
 "nbformat_minor": 2
}
