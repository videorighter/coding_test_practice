{
 "cells": [
  {
   "cell_type": "markdown",
   "metadata": {},
   "source": [
    "## https://programmers.co.kr/learn/courses/30/lessons/42579"
   ]
  },
  {
   "cell_type": "code",
   "execution_count": 32,
   "metadata": {},
   "outputs": [],
   "source": [
    "genres = [\"classic\", \"pop\", \"classic\", \"classic\", \"pop\"]\n",
    "plays = [500, 600, 150, 800, 2500]"
   ]
  },
  {
   "cell_type": "code",
   "execution_count": 115,
   "metadata": {},
   "outputs": [],
   "source": [
    "def solution(genres, plays):\n",
    "    idx_hsh = {}\n",
    "    genre_hsh = {}\n",
    "    play_hsh = {}\n",
    "    for i in range(len(genres)):\n",
    "        idx_hsh[i] = [genres[i], plays[i]]\n",
    "    idx_hsh = sorted(idx_hsh.items(), key=lambda x: x[1][1], reverse=True)\n",
    "    for i, (genre, play) in idx_hsh:\n",
    "        if genre not in genre_hsh:\n",
    "            genre_hsh[genre] = [i]\n",
    "        else:\n",
    "            genre_hsh[genre].append(i)\n",
    "        if genre not in play_hsh:\n",
    "            play_hsh[genre] = play\n",
    "        else:\n",
    "            play_hsh[genre] += play\n",
    "    play_hsh = sorted(play_hsh.items(), key=lambda x: x[1], reverse=True)\n",
    "    answer = []\n",
    "    for clss, _ in play_hsh:\n",
    "        answer.append(genre_hsh[clss][0])\n",
    "        if len(genre_hsh[clss]) > 1:\n",
    "            answer.append(genre_hsh[clss][1])\n",
    "    return answer"
   ]
  },
  {
   "cell_type": "code",
   "execution_count": 116,
   "metadata": {},
   "outputs": [
    {
     "name": "stdout",
     "output_type": "stream",
     "text": [
      "[(4, ['pop', 2500]), (3, ['classic', 800]), (1, ['pop', 600]), (0, ['classic', 500]), (2, ['classic', 150])]\n",
      "{'pop': [4, 1], 'classic': [3, 0, 2]}\n",
      "[('pop', 3100), ('classic', 1450)]\n"
     ]
    },
    {
     "data": {
      "text/plain": [
       "[4, 1, 3, 0]"
      ]
     },
     "execution_count": 116,
     "metadata": {},
     "output_type": "execute_result"
    }
   ],
   "source": [
    "solution(genres, plays)"
   ]
  },
  {
   "cell_type": "code",
   "execution_count": null,
   "metadata": {},
   "outputs": [],
   "source": []
  }
 ],
 "metadata": {
  "kernelspec": {
   "display_name": "Python 3",
   "language": "python",
   "name": "python3"
  },
  "language_info": {
   "codemirror_mode": {
    "name": "ipython",
    "version": 3
   },
   "file_extension": ".py",
   "mimetype": "text/x-python",
   "name": "python",
   "nbconvert_exporter": "python",
   "pygments_lexer": "ipython3",
   "version": "3.8.3"
  }
 },
 "nbformat": 4,
 "nbformat_minor": 4
}
