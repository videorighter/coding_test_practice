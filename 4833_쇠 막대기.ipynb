{
 "cells": [
  {
   "cell_type": "code",
   "execution_count": 11,
   "metadata": {},
   "outputs": [
    {
     "name": "stdin",
     "output_type": "stream",
     "text": [
      " ()(((()())(())()))(())\n"
     ]
    },
    {
     "name": "stdout",
     "output_type": "stream",
     "text": [
      "!(((!!)(!)!))(!)\n"
     ]
    }
   ],
   "source": [
    "data = str(input()).replace('()', '!')\n",
    "print(data)"
   ]
  },
  {
   "cell_type": "code",
   "execution_count": 8,
   "metadata": {},
   "outputs": [
    {
     "name": "stdout",
     "output_type": "stream",
     "text": [
      "17\n"
     ]
    }
   ],
   "source": [
    "# 시간 초과\n",
    "from collections import deque\n",
    "op = deque()\n",
    "cl = deque()\n",
    "for i in range(len(data)):\n",
    "    if data[i] == '(':\n",
    "        op.append(i)\n",
    "    elif data[i] == ')':\n",
    "        cl.append(i)\n",
    "op_copy = op.copy()\n",
    "op_len = len(op)\n",
    "\n",
    "result = 0\n",
    "for i in range(-1, -(op_len+1), -1):\n",
    "    for j in range(op_len):\n",
    "        if op_copy[i] < cl[j]:\n",
    "            ele = data[op_copy[i]:cl[j]+1]\n",
    "            result += ele.count('!')+1\n",
    "            op.pop()\n",
    "            del cl[j]\n",
    "            break\n",
    "print(result)"
   ]
  },
  {
   "cell_type": "code",
   "execution_count": 23,
   "metadata": {},
   "outputs": [
    {
     "name": "stdout",
     "output_type": "stream",
     "text": [
      "17\n"
     ]
    }
   ],
   "source": [
    "from collections import deque\n",
    "data_que = deque(data)\n",
    "c = 0\n",
    "result = 0\n",
    "for i in range(len(data)):\n",
    "    pop = data_que.popleft()\n",
    "    if pop == '(':\n",
    "        c += 1\n",
    "    elif pop == ')':\n",
    "        c -= 1\n",
    "        result += 1\n",
    "    else:\n",
    "        result += c\n",
    "        \n",
    "print(result)"
   ]
  },
  {
   "cell_type": "code",
   "execution_count": null,
   "metadata": {},
   "outputs": [],
   "source": []
  }
 ],
 "metadata": {
  "kernelspec": {
   "display_name": "Python 3",
   "language": "python",
   "name": "python3"
  },
  "language_info": {
   "codemirror_mode": {
    "name": "ipython",
    "version": 3
   },
   "file_extension": ".py",
   "mimetype": "text/x-python",
   "name": "python",
   "nbconvert_exporter": "python",
   "pygments_lexer": "ipython3",
   "version": "3.8.3"
  }
 },
 "nbformat": 4,
 "nbformat_minor": 4
}
