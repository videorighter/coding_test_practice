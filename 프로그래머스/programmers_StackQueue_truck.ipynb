{
 "cells": [
  {
   "cell_type": "code",
   "execution_count": 170,
   "metadata": {},
   "outputs": [],
   "source": [
    "def solution(bridge_length, weight, truck_weights):\n",
    "    bridge = [0]*bridge_length\n",
    "    completes = []\n",
    "    answer = 0\n",
    "    truck_weights_copy = truck_weights.copy()\n",
    "    while truck_weights != completes:\n",
    "        try:\n",
    "            bridge.append(truck_weights_copy.pop(0))\n",
    "            if bridge[0] > 0:\n",
    "                completes.append(bridge.pop(0))\n",
    "            else:\n",
    "                bridge.pop(0)\n",
    "\n",
    "            if sum(bridge) <= weight:\n",
    "                answer += 1\n",
    "            else:\n",
    "                truck_weights_copy.insert(0, bridge.pop(-1))\n",
    "                bridge.append(0)\n",
    "                answer += 1\n",
    "        except IndexError:\n",
    "            pop = bridge.pop(0)\n",
    "            if pop > 0:\n",
    "                completes.append(pop)\n",
    "            answer += 1\n",
    "            bridge.append(0)\n",
    "\n",
    "        \n",
    "    return answer"
   ]
  },
  {
   "cell_type": "code",
   "execution_count": 171,
   "metadata": {},
   "outputs": [
    {
     "data": {
      "text/plain": [
       "8"
      ]
     },
     "execution_count": 171,
     "metadata": {},
     "output_type": "execute_result"
    }
   ],
   "source": [
    "truck_weights = [7,4,5,6]\n",
    "bridge_length = 2\n",
    "weight = 10\n",
    "\n",
    "solution(bridge_length, weight, truck_weights)"
   ]
  },
  {
   "cell_type": "code",
   "execution_count": 172,
   "metadata": {},
   "outputs": [
    {
     "data": {
      "text/plain": [
       "110"
      ]
     },
     "execution_count": 172,
     "metadata": {},
     "output_type": "execute_result"
    }
   ],
   "source": [
    "truck_weights = [10,10,10,10,10,10,10,10,10,10]\n",
    "bridge_length = 100\n",
    "weight = 100\n",
    "\n",
    "solution(bridge_length, weight, truck_weights)"
   ]
  }
 ],
 "metadata": {
  "interpreter": {
   "hash": "ac59ebe37160ed0dfa835113d9b8498d9f09ceb179beaac4002f036b9467c963"
  },
  "kernelspec": {
   "display_name": "Python 3.9.7 64-bit",
   "language": "python",
   "name": "python3"
  },
  "language_info": {
   "codemirror_mode": {
    "name": "ipython",
    "version": 3
   },
   "file_extension": ".py",
   "mimetype": "text/x-python",
   "name": "python",
   "nbconvert_exporter": "python",
   "pygments_lexer": "ipython3",
   "version": "3.9.7"
  },
  "orig_nbformat": 4
 },
 "nbformat": 4,
 "nbformat_minor": 2
}
