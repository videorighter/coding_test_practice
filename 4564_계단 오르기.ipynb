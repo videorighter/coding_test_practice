{
 "cells": [
  {
   "cell_type": "code",
   "execution_count": 2,
   "metadata": {},
   "outputs": [
    {
     "name": "stdin",
     "output_type": "stream",
     "text": [
      " 6\n",
      " 10\n",
      " 20\n",
      " 15\n",
      " 25\n",
      " 10\n",
      " 20\n"
     ]
    },
    {
     "name": "stdout",
     "output_type": "stream",
     "text": [
      "75\n"
     ]
    }
   ],
   "source": [
    "n = int(input())\n",
    "stair = [0] + [int(input()) for i in range(n)]\n",
    "dp = [0] * (n+1)\n",
    "dp[0] = stair[0] # 첫 번째 계단\n",
    "dp[1] = max(stair[0]+stair[1], stair[1]) # 두 번째 계단\n",
    "dp[2] = max([stair[0]+stair[1], stair[1]+stair[2], stair[0]+stair[2]]) # 세 번째 계단\n",
    "for i in list(range(3, len(stair))):\n",
    "    dp[i] = max(dp[i-2]+stair[i], dp[i-3]+stair[i-1]+stair[i])\n",
    "print(dp[-1])"
   ]
  },
  {
   "cell_type": "code",
   "execution_count": null,
   "metadata": {},
   "outputs": [],
   "source": []
  }
 ],
 "metadata": {
  "kernelspec": {
   "display_name": "Python 3",
   "language": "python",
   "name": "python3"
  },
  "language_info": {
   "codemirror_mode": {
    "name": "ipython",
    "version": 3
   },
   "file_extension": ".py",
   "mimetype": "text/x-python",
   "name": "python",
   "nbconvert_exporter": "python",
   "pygments_lexer": "ipython3",
   "version": "3.8.3"
  }
 },
 "nbformat": 4,
 "nbformat_minor": 4
}
