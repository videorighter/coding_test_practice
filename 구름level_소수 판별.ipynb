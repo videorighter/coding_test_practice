{
 "cells": [
  {
   "cell_type": "code",
   "execution_count": null,
   "metadata": {},
   "outputs": [],
   "source": [
    "# -*- coding: utf-8 -*-\n",
    "# UTF-8 encoding when using korean\n",
    "user_input = int(input())\n",
    "\n",
    "def IsPrime(x):\n",
    "\tfor i in range(2, x):\n",
    "\t\tif x%i == 0:\n",
    "\t\t\treturn False\n",
    "\t\t\n",
    "\treturn True\n",
    "\n",
    "print(IsPrime(user_input))"
   ]
  }
 ],
 "metadata": {
  "language_info": {
   "name": "python"
  },
  "orig_nbformat": 4
 },
 "nbformat": 4,
 "nbformat_minor": 2
}
