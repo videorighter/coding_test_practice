{
 "cells": [
  {
   "cell_type": "code",
   "execution_count": 36,
   "metadata": {},
   "outputs": [
    {
     "name": "stdin",
     "output_type": "stream",
     "text": [
      " 32984289\n"
     ]
    },
    {
     "name": "stdout",
     "output_type": "stream",
     "text": [
      "1111101110100110011100001\n"
     ]
    }
   ],
   "source": [
    "input_ = int(input())\n",
    "\n",
    "def conv_binary(tmp, num):\n",
    "    quot = num//2\n",
    "    remain = num%2\n",
    "    result = str(remain) + tmp\n",
    "    \n",
    "    if num < 2:\n",
    "        print(str(num))\n",
    "    else:\n",
    "        if quot != 1:\n",
    "            return conv_binary(result, quot)\n",
    "        else:\n",
    "            result = str(quot)+result\n",
    "            print(result)\n",
    "    \n",
    "conv_binary('', input_)"
   ]
  },
  {
   "cell_type": "code",
   "execution_count": null,
   "metadata": {},
   "outputs": [],
   "source": []
  }
 ],
 "metadata": {
  "kernelspec": {
   "display_name": "Python 3",
   "language": "python",
   "name": "python3"
  },
  "language_info": {
   "codemirror_mode": {
    "name": "ipython",
    "version": 3
   },
   "file_extension": ".py",
   "mimetype": "text/x-python",
   "name": "python",
   "nbconvert_exporter": "python",
   "pygments_lexer": "ipython3",
   "version": "3.8.3"
  }
 },
 "nbformat": 4,
 "nbformat_minor": 4
}
