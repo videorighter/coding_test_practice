{
 "cells": [
  {
   "cell_type": "code",
   "execution_count": 12,
   "metadata": {},
   "outputs": [
    {
     "name": "stdin",
     "output_type": "stream",
     "text": [
      " 64 128\n"
     ]
    },
    {
     "name": "stdout",
     "output_type": "stream",
     "text": [
      "64\n"
     ]
    }
   ],
   "source": [
    "data = list(map(int, input().split()))\n",
    "first_range = range(1, data[0]+1)\n",
    "second_range = range(1, data[1]+1)\n",
    "\n",
    "first = [i for i in first_range if data[0]%i == 0]\n",
    "second = [i for i in second_range if data[1]%i == 0]\n",
    "\n",
    "result = []\n",
    "for i in sorted(first, reverse=True):\n",
    "    for j in sorted(second, reverse=True):\n",
    "        if i == j:\n",
    "            result.append(i)\n",
    "print(result[0])"
   ]
  },
  {
   "cell_type": "code",
   "execution_count": null,
   "metadata": {},
   "outputs": [],
   "source": []
  }
 ],
 "metadata": {
  "kernelspec": {
   "display_name": "Python 3",
   "language": "python",
   "name": "python3"
  },
  "language_info": {
   "codemirror_mode": {
    "name": "ipython",
    "version": 3
   },
   "file_extension": ".py",
   "mimetype": "text/x-python",
   "name": "python",
   "nbconvert_exporter": "python",
   "pygments_lexer": "ipython3",
   "version": "3.8.3"
  }
 },
 "nbformat": 4,
 "nbformat_minor": 4
}
