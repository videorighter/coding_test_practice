{
 "cells": [
  {
   "cell_type": "code",
   "execution_count": 149,
   "metadata": {},
   "outputs": [
    {
     "name": "stdin",
     "output_type": "stream",
     "text": [
      " 5\n",
      " 10 50 30 20 40\n"
     ]
    },
    {
     "name": "stdout",
     "output_type": "stream",
     "text": [
      "2\n"
     ]
    }
   ],
   "source": [
    "input_num = int(input())\n",
    "input_list = list(map(int, input().strip().split(' ')))\n",
    "\n",
    "def solution(input_num, input_list):\n",
    "    result = 0\n",
    "    for i in range(input_num-1, 0, -1):\n",
    "        sort = False\n",
    "        for j in range(i):\n",
    "            if input_list[j] > input_list[j+1]:\n",
    "                input_list[j], input_list[j+1] = input_list[j+1], input_list[j]\n",
    "                sort = True\n",
    "        if sort:\n",
    "            result += 1\n",
    "            \n",
    "    return result\n",
    "        \n",
    "result = solution(input_num, input_list)\n",
    "print(result)"
   ]
  },
  {
   "cell_type": "code",
   "execution_count": null,
   "metadata": {},
   "outputs": [],
   "source": []
  }
 ],
 "metadata": {
  "kernelspec": {
   "display_name": "Python 3",
   "language": "python",
   "name": "python3"
  },
  "language_info": {
   "codemirror_mode": {
    "name": "ipython",
    "version": 3
   },
   "file_extension": ".py",
   "mimetype": "text/x-python",
   "name": "python",
   "nbconvert_exporter": "python",
   "pygments_lexer": "ipython3",
   "version": "3.8.3"
  }
 },
 "nbformat": 4,
 "nbformat_minor": 4
}
