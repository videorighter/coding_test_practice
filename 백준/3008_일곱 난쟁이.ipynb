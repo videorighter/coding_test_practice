{
 "cells": [
  {
   "cell_type": "code",
   "execution_count": 39,
   "metadata": {},
   "outputs": [
    {
     "name": "stdin",
     "output_type": "stream",
     "text": [
      " 20\n",
      " 7\n",
      " 23\n",
      " 19\n",
      " 10\n",
      " 15\n",
      " 25\n",
      " 8\n",
      " 13\n"
     ]
    },
    {
     "name": "stdout",
     "output_type": "stream",
     "text": [
      "7\n",
      "8\n",
      "10\n",
      "13\n",
      "19\n",
      "20\n",
      "23\n"
     ]
    }
   ],
   "source": [
    "data = [int(input()) for i in range(9)]\n",
    "sorted_data = sorted(data)\n",
    "copy = sorted_data.copy()\n",
    "for i in range(len(sorted_data)):\n",
    "    for j in range(i, len(sorted_data)):\n",
    "        if sum(sorted_data)-sorted_data[i]-sorted_data[j] == 100:\n",
    "            sorted_data.remove(copy[i])\n",
    "            sorted_data.remove(copy[j])\n",
    "            for k in sorted_data:\n",
    "                print(k)"
   ]
  },
  {
   "cell_type": "code",
   "execution_count": null,
   "metadata": {},
   "outputs": [],
   "source": []
  }
 ],
 "metadata": {
  "kernelspec": {
   "display_name": "Python 3",
   "language": "python",
   "name": "python3"
  },
  "language_info": {
   "codemirror_mode": {
    "name": "ipython",
    "version": 3
   },
   "file_extension": ".py",
   "mimetype": "text/x-python",
   "name": "python",
   "nbconvert_exporter": "python",
   "pygments_lexer": "ipython3",
   "version": "3.8.3"
  }
 },
 "nbformat": 4,
 "nbformat_minor": 4
}
