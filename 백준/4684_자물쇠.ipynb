{
 "cells": [
  {
   "cell_type": "code",
   "execution_count": 70,
   "metadata": {},
   "outputs": [
    {
     "name": "stdin",
     "output_type": "stream",
     "text": [
      " 10\n",
      " 9 2 1 10 3 4 5 6 7 8\n"
     ]
    },
    {
     "name": "stdout",
     "output_type": "stream",
     "text": [
      "3\n",
      "7 9\n",
      "5\n"
     ]
    }
   ],
   "source": [
    "def right_slide(k, lst):\n",
    "    remained = lst[len(lst)-k:]\n",
    "    slide = lst[:len(lst)-k]\n",
    "    remained.extend(slide)\n",
    "    return remained\n",
    "\n",
    "def left_slide(k, lst):\n",
    "    slide = lst[:k]\n",
    "    remained = lst[k:]\n",
    "    remained.extend(slide)\n",
    "    return remained\n",
    "    \n",
    "def reverse(p, q, lst):\n",
    "    lst_copy = lst.copy()\n",
    "    lst_copy[p-1:q] = reversed(lst[p-1:q])\n",
    "    return lst_copy\n",
    "\n",
    "n = int(input())\n",
    "lock = [i for i in range(1, n+1)]\n",
    "last = [int(i) for i in input().split()]\n",
    "\n",
    "tmp_idx = []\n",
    "for i in range(1, len(last)):\n",
    "    if last[i] == last[i-1]+1:\n",
    "        tmp_idx.append(i-1)\n",
    "third = len(last)-tmp_idx[0]-1\n",
    "result_right = right_slide(len(last)-tmp_idx[0], last)\n",
    "tmp_lst = left_slide(result_right[0]-1, lock)\n",
    "\n",
    "tmp_lst_diff = [i for i in range(len(tmp_lst)) if result_right[i] - tmp_lst[i] != 0]\n",
    "second_1 = tmp_lst_diff[0] \n",
    "second_2 = tmp_lst_diff[1]\n",
    "\n",
    "if tmp_lst_diff[1]+1 == len(tmp_lst):\n",
    "    tmp_lst[tmp_lst_diff[0]:] = reversed(tmp_lst[tmp_lst_diff[0]:])\n",
    "else:\n",
    "    tmp_lst[tmp_lst_diff[0]:tmp_lst_diff[1]+1] = reversed(tmp_lst[tmp_lst_diff[0]:tmp_lst_diff[1]+1])\n",
    "first = tmp_lst[0]\n",
    "\n",
    "print(first)\n",
    "print(second_1, second_2)\n",
    "print(third)"
   ]
  },
  {
   "cell_type": "code",
   "execution_count": 67,
   "metadata": {},
   "outputs": [
    {
     "data": {
      "text/plain": [
       "[9, 2, 1, 10, 3, 4, 5, 6, 7, 8]"
      ]
     },
     "execution_count": 67,
     "metadata": {},
     "output_type": "execute_result"
    }
   ],
   "source": [
    "a = left_slide(3, lock)\n",
    "b = reverse(7, 9, a)\n",
    "c = left_slide(5, b)\n",
    "c"
   ]
  },
  {
   "cell_type": "code",
   "execution_count": 69,
   "metadata": {},
   "outputs": [
    {
     "name": "stdin",
     "output_type": "stream",
     "text": [
      " 10\n",
      " 9 2 1 10 3 4 5 6 7 8\n"
     ]
    },
    {
     "name": "stdout",
     "output_type": "stream",
     "text": [
      "3\n",
      "7 9\n",
      "5\n"
     ]
    }
   ],
   "source": [
    "def left_slide(k, lst):\n",
    "    slide = lst[:k]\n",
    "    remained = lst[k:]\n",
    "    remained.extend(slide)\n",
    "    return remained\n",
    "\n",
    "def reverse(p, q, lst):\n",
    "    lst_copy = lst.copy()\n",
    "    lst_copy[p-1:q] = reversed(lst[p-1:q])\n",
    "    return lst_copy\n",
    "\n",
    "n = int(input())\n",
    "lock = [i for i in range(1, n+1)]\n",
    "last = [int(i) for i in input().split()]\n",
    "\n",
    "for i in range(1, n):\n",
    "    first_slide = left_slide(i, lock)\n",
    "    for start in range(1, n):\n",
    "        for end in range(start+1, n):\n",
    "            rvs = reverse(start, end, first_slide)\n",
    "            for j in range(1, n):\n",
    "                second_slide = left_slide(j, rvs)\n",
    "                if second_slide == last:\n",
    "                    break\n",
    "            if second_slide == last:\n",
    "                break\n",
    "        if second_slide == last:\n",
    "            break\n",
    "    if second_slide == last:\n",
    "        break\n",
    "\n",
    "print(i)\n",
    "print(start, end)\n",
    "print(j)"
   ]
  },
  {
   "cell_type": "code",
   "execution_count": null,
   "metadata": {},
   "outputs": [],
   "source": []
  }
 ],
 "metadata": {
  "kernelspec": {
   "display_name": "Python 3",
   "language": "python",
   "name": "python3"
  },
  "language_info": {
   "codemirror_mode": {
    "name": "ipython",
    "version": 3
   },
   "file_extension": ".py",
   "mimetype": "text/x-python",
   "name": "python",
   "nbconvert_exporter": "python",
   "pygments_lexer": "ipython3",
   "version": "3.8.3"
  }
 },
 "nbformat": 4,
 "nbformat_minor": 4
}
