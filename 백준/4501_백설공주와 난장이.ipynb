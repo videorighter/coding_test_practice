{
 "cells": [
  {
   "cell_type": "code",
   "execution_count": 1,
   "metadata": {},
   "outputs": [
    {
     "name": "stdin",
     "output_type": "stream",
     "text": [
      " 79\n",
      " 57\n",
      " 88\n",
      " 72\n",
      " 95\n",
      " 88\n",
      " 64\n"
     ]
    },
    {
     "name": "stdout",
     "output_type": "stream",
     "text": [
      "95\n",
      "88\n"
     ]
    }
   ],
   "source": [
    "tall_list = [int(input()) for _ in range(7)]\n",
    "def output(tall_list):\n",
    "    sorted_list = sorted(tall_list)\n",
    "    if sorted_list[-1] == sorted_list[-2]:\n",
    "        print(sorted_list[-1], sorted_list[-2])\n",
    "    else:\n",
    "        print(sorted_list[-1])\n",
    "        print(sorted_list[-2])\n",
    "        \n",
    "output(tall_list)"
   ]
  },
  {
   "cell_type": "code",
   "execution_count": null,
   "metadata": {},
   "outputs": [],
   "source": []
  }
 ],
 "metadata": {
  "kernelspec": {
   "display_name": "Python 3",
   "language": "python",
   "name": "python3"
  },
  "language_info": {
   "codemirror_mode": {
    "name": "ipython",
    "version": 3
   },
   "file_extension": ".py",
   "mimetype": "text/x-python",
   "name": "python",
   "nbconvert_exporter": "python",
   "pygments_lexer": "ipython3",
   "version": "3.8.3"
  }
 },
 "nbformat": 4,
 "nbformat_minor": 4
}
