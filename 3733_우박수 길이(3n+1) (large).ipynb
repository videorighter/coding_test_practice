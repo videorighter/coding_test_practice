{
 "cells": [
  {
   "cell_type": "code",
   "execution_count": null,
   "metadata": {},
   "outputs": [
    {
     "name": "stdin",
     "output_type": "stream",
     "text": [
      " 11275 8400510\n"
     ]
    }
   ],
   "source": [
    "import sys\n",
    "sys.setrecursionlimit(10000000)\n",
    "\n",
    "def ubaksu_pair(n):\n",
    "    ubaksu = [n]\n",
    "    def ubak(n):\n",
    "        if n == 1:\n",
    "            return \n",
    "        else:\n",
    "            if n%2 == 1:\n",
    "                ubaksu.append(3*n+1)\n",
    "                return ubak(3*n+1)\n",
    "            else:\n",
    "                ubaksu.append(n/2)\n",
    "                return ubak(n/2)\n",
    "    ubak(n)\n",
    "    return [n, len(ubaksu)]\n",
    "\n",
    "def ubak_loop(ubaksu_list, start, end):\n",
    "    num = start\n",
    "    pair = ubaksu_pair(num)\n",
    "    \n",
    "    if pair[0] == end:\n",
    "        return ubaksu_list\n",
    "\n",
    "    elif pair[1] > ubaksu_list[1]:\n",
    "        ubaksu_list[0], ubaksu_list[1] = pair[0], pair[1]\n",
    "    num += 1\n",
    "        \n",
    "    return ubak_loop(ubaksu_list, num, end)\n",
    "\n",
    "input_list = input().split(' ')\n",
    "start, end = int(input_list[0]), int(input_list[1])\n",
    "ubaksu_list = ubak_loop([0, 0], start, end)\n",
    "print(ubaksu_list[0], ubaksu_list[1])"
   ]
  },
  {
   "cell_type": "code",
   "execution_count": null,
   "metadata": {},
   "outputs": [],
   "source": []
  }
 ],
 "metadata": {
  "kernelspec": {
   "display_name": "Python 3",
   "language": "python",
   "name": "python3"
  },
  "language_info": {
   "codemirror_mode": {
    "name": "ipython",
    "version": 3
   },
   "file_extension": ".py",
   "mimetype": "text/x-python",
   "name": "python",
   "nbconvert_exporter": "python",
   "pygments_lexer": "ipython3",
   "version": "3.8.3"
  }
 },
 "nbformat": 4,
 "nbformat_minor": 4
}
