{
 "cells": [
  {
   "cell_type": "code",
   "execution_count": 30,
   "metadata": {},
   "outputs": [
    {
     "name": "stdin",
     "output_type": "stream",
     "text": [
      " 5\n",
      " 100 90\n",
      " 90 100\n",
      " 80 80\n",
      " 80 90\n",
      " 60 50\n"
     ]
    },
    {
     "name": "stdout",
     "output_type": "stream",
     "text": [
      "1 100 90\n",
      "2 90 100\n",
      "4 80 90\n",
      "3 80 80\n",
      "5 60 50\n"
     ]
    }
   ],
   "source": [
    "input_n = int(input())\n",
    "input_dict = {}\n",
    "for i in range(input_n):\n",
    "    input_tmp = input()\n",
    "    input_dict[i+1] = list(map(int, input_tmp.split()))\n",
    "    \n",
    "sorted_list = sorted(input_dict.items(), key = lambda x: (-x[1][0], -x[1][1], x[0]))\n",
    "for i in sorted_list:\n",
    "    print(i[0], i[1][0], i[1][1])"
   ]
  },
  {
   "cell_type": "code",
   "execution_count": null,
   "metadata": {},
   "outputs": [],
   "source": []
  }
 ],
 "metadata": {
  "kernelspec": {
   "display_name": "Python 3",
   "language": "python",
   "name": "python3"
  },
  "language_info": {
   "codemirror_mode": {
    "name": "ipython",
    "version": 3
   },
   "file_extension": ".py",
   "mimetype": "text/x-python",
   "name": "python",
   "nbconvert_exporter": "python",
   "pygments_lexer": "ipython3",
   "version": "3.8.3"
  }
 },
 "nbformat": 4,
 "nbformat_minor": 4
}
