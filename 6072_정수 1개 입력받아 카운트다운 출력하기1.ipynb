{
 "cells": [
  {
   "cell_type": "code",
   "execution_count": 2,
   "metadata": {},
   "outputs": [
    {
     "name": "stdin",
     "output_type": "stream",
     "text": [
      " 5\n"
     ]
    },
    {
     "name": "stdout",
     "output_type": "stream",
     "text": [
      "5\n",
      "4\n",
      "3\n",
      "2\n",
      "1\n"
     ]
    }
   ],
   "source": [
    "input_ = input()\n",
    "\n",
    "try:\n",
    "    if int(input_) > 100:\n",
    "        print(\"100 이하의 정수를 입력하세요.\")\n",
    "    elif int(input_) < 0:\n",
    "        print(\"1 이상의 정수를 입력하세요.\")\n",
    "    else:\n",
    "        list_ = list(range(1, int(input_)+1))\n",
    "    \n",
    "    for idx, num in enumerate(list_):\n",
    "        print(list_[(idx+1)*(-1)])\n",
    "\n",
    "except ValueError:\n",
    "    print(\"정수를 입력하세요.\")"
   ]
  },
  {
   "cell_type": "code",
   "execution_count": null,
   "metadata": {},
   "outputs": [],
   "source": []
  }
 ],
 "metadata": {
  "kernelspec": {
   "display_name": "Python 3",
   "language": "python",
   "name": "python3"
  },
  "language_info": {
   "codemirror_mode": {
    "name": "ipython",
    "version": 3
   },
   "file_extension": ".py",
   "mimetype": "text/x-python",
   "name": "python",
   "nbconvert_exporter": "python",
   "pygments_lexer": "ipython3",
   "version": "3.8.3"
  }
 },
 "nbformat": 4,
 "nbformat_minor": 4
}
